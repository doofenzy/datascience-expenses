{
 "cells": [
  {
   "metadata": {
    "ExecuteTime": {
     "end_time": "2025-03-22T12:16:08.373512Z",
     "start_time": "2025-03-22T12:16:08.360657Z"
    }
   },
   "cell_type": "code",
   "source": [
    "import pandas as pd\n",
    "import matplotlib.pyplot as plt\n",
    "\n",
    "column_names = ['month_of_salary', 'expenses_of_the_month', 'salary', 'accommodation', 'transportation', 'foods', 'BD_expenses', 'others', 'total_cost', 'remaining']\n",
    "df = pd.read_csv(\"expenses.csv\", names=column_names, header=0)\n",
    "df.head(10)"
   ],
   "id": "9cc9955bb906f6f0",
   "outputs": [
    {
     "data": {
      "text/plain": [
       "  month_of_salary expenses_of_the_month       salary accommodation  \\\n",
       "0         Auguest             September   dh2,750.00      dh500.00   \n",
       "1       September              Octobaer   dh2,500.00      dh505.00   \n",
       "2        Octobaer              November   dh2,500.00      dh505.00   \n",
       "3        November              December   dh2,500.00      dh505.00   \n",
       "4        December               Januray   dh2,750.00      dh505.00   \n",
       "5             NaN                   NaN  dh13,000.00           NaN   \n",
       "6             NaN                   NaN  ৳390,000.00           NaN   \n",
       "\n",
       "  transportation     foods  BD_expenses    others  total_cost remaining  \n",
       "0       dh180.00  dh190.00   dh1,380.00  dh225.00  dh2,475.00    dh0.00  \n",
       "1       dh170.00  dh200.00   dh1,350.00  dh190.00  dh2,415.00      dh70  \n",
       "2       dh140.00  dh180.00   dh1,400.00  dh200.00  dh2,425.00    dh0.00  \n",
       "3       dh145.00  dh180.00   dh1,100.00  dh500.00  dh2,430.00       NaN  \n",
       "4       dh140.00  dh200.00   dh1,650.00  dh250.00  dh2,745.00       NaN  \n",
       "5            NaN       NaN   dh6,880.00       NaN         NaN       NaN  \n",
       "6            NaN       NaN  ৳199,520.00       NaN         NaN       NaN  "
      ],
      "text/html": [
       "<div>\n",
       "<style scoped>\n",
       "    .dataframe tbody tr th:only-of-type {\n",
       "        vertical-align: middle;\n",
       "    }\n",
       "\n",
       "    .dataframe tbody tr th {\n",
       "        vertical-align: top;\n",
       "    }\n",
       "\n",
       "    .dataframe thead th {\n",
       "        text-align: right;\n",
       "    }\n",
       "</style>\n",
       "<table border=\"1\" class=\"dataframe\">\n",
       "  <thead>\n",
       "    <tr style=\"text-align: right;\">\n",
       "      <th></th>\n",
       "      <th>month_of_salary</th>\n",
       "      <th>expenses_of_the_month</th>\n",
       "      <th>salary</th>\n",
       "      <th>accommodation</th>\n",
       "      <th>transportation</th>\n",
       "      <th>foods</th>\n",
       "      <th>BD_expenses</th>\n",
       "      <th>others</th>\n",
       "      <th>total_cost</th>\n",
       "      <th>remaining</th>\n",
       "    </tr>\n",
       "  </thead>\n",
       "  <tbody>\n",
       "    <tr>\n",
       "      <th>0</th>\n",
       "      <td>Auguest</td>\n",
       "      <td>September</td>\n",
       "      <td>dh2,750.00</td>\n",
       "      <td>dh500.00</td>\n",
       "      <td>dh180.00</td>\n",
       "      <td>dh190.00</td>\n",
       "      <td>dh1,380.00</td>\n",
       "      <td>dh225.00</td>\n",
       "      <td>dh2,475.00</td>\n",
       "      <td>dh0.00</td>\n",
       "    </tr>\n",
       "    <tr>\n",
       "      <th>1</th>\n",
       "      <td>September</td>\n",
       "      <td>Octobaer</td>\n",
       "      <td>dh2,500.00</td>\n",
       "      <td>dh505.00</td>\n",
       "      <td>dh170.00</td>\n",
       "      <td>dh200.00</td>\n",
       "      <td>dh1,350.00</td>\n",
       "      <td>dh190.00</td>\n",
       "      <td>dh2,415.00</td>\n",
       "      <td>dh70</td>\n",
       "    </tr>\n",
       "    <tr>\n",
       "      <th>2</th>\n",
       "      <td>Octobaer</td>\n",
       "      <td>November</td>\n",
       "      <td>dh2,500.00</td>\n",
       "      <td>dh505.00</td>\n",
       "      <td>dh140.00</td>\n",
       "      <td>dh180.00</td>\n",
       "      <td>dh1,400.00</td>\n",
       "      <td>dh200.00</td>\n",
       "      <td>dh2,425.00</td>\n",
       "      <td>dh0.00</td>\n",
       "    </tr>\n",
       "    <tr>\n",
       "      <th>3</th>\n",
       "      <td>November</td>\n",
       "      <td>December</td>\n",
       "      <td>dh2,500.00</td>\n",
       "      <td>dh505.00</td>\n",
       "      <td>dh145.00</td>\n",
       "      <td>dh180.00</td>\n",
       "      <td>dh1,100.00</td>\n",
       "      <td>dh500.00</td>\n",
       "      <td>dh2,430.00</td>\n",
       "      <td>NaN</td>\n",
       "    </tr>\n",
       "    <tr>\n",
       "      <th>4</th>\n",
       "      <td>December</td>\n",
       "      <td>Januray</td>\n",
       "      <td>dh2,750.00</td>\n",
       "      <td>dh505.00</td>\n",
       "      <td>dh140.00</td>\n",
       "      <td>dh200.00</td>\n",
       "      <td>dh1,650.00</td>\n",
       "      <td>dh250.00</td>\n",
       "      <td>dh2,745.00</td>\n",
       "      <td>NaN</td>\n",
       "    </tr>\n",
       "    <tr>\n",
       "      <th>5</th>\n",
       "      <td>NaN</td>\n",
       "      <td>NaN</td>\n",
       "      <td>dh13,000.00</td>\n",
       "      <td>NaN</td>\n",
       "      <td>NaN</td>\n",
       "      <td>NaN</td>\n",
       "      <td>dh6,880.00</td>\n",
       "      <td>NaN</td>\n",
       "      <td>NaN</td>\n",
       "      <td>NaN</td>\n",
       "    </tr>\n",
       "    <tr>\n",
       "      <th>6</th>\n",
       "      <td>NaN</td>\n",
       "      <td>NaN</td>\n",
       "      <td>৳390,000.00</td>\n",
       "      <td>NaN</td>\n",
       "      <td>NaN</td>\n",
       "      <td>NaN</td>\n",
       "      <td>৳199,520.00</td>\n",
       "      <td>NaN</td>\n",
       "      <td>NaN</td>\n",
       "      <td>NaN</td>\n",
       "    </tr>\n",
       "  </tbody>\n",
       "</table>\n",
       "</div>"
      ]
     },
     "execution_count": 63,
     "metadata": {},
     "output_type": "execute_result"
    }
   ],
   "execution_count": 63
  },
  {
   "metadata": {},
   "cell_type": "markdown",
   "source": "CONVERT TO FLOAT",
   "id": "249c711fb2fe1c1f"
  },
  {
   "metadata": {
    "ExecuteTime": {
     "end_time": "2025-03-22T12:16:21.530665Z",
     "start_time": "2025-03-22T12:16:21.511073Z"
    }
   },
   "cell_type": "code",
   "source": [
    "column_clean = [\"salary\", \"accommodation\", \"transportation\", \"foods\", \"BD_expenses\", \"others\", \"total_cost\", \"remaining\"]\n",
    "\n",
    "for column in column_clean:\n",
    "    df[column] = df[column].astype(str)\n",
    "    df[column] = df[column].str.replace(\"dh\", \"\", regex=False)\n",
    "    df[column] = df[column].str.replace(\",\", \"\", regex=True)\n",
    "    df[column] = df[column].replace(\"\", pd.NA)\n",
    "    df[column] = pd.to_numeric(df[column], errors='coerce')\n",
    "\n",
    "df = df.fillna(0)\n",
    "print(df.head(10))"
   ],
   "id": "aa6fe329145e5aab",
   "outputs": [
    {
     "name": "stdout",
     "output_type": "stream",
     "text": [
      "  month_of_salary expenses_of_the_month   salary  accommodation  \\\n",
      "0         Auguest             September   2750.0          500.0   \n",
      "1       September              Octobaer   2500.0          505.0   \n",
      "2        Octobaer              November   2500.0          505.0   \n",
      "3        November              December   2500.0          505.0   \n",
      "4        December               Januray   2750.0          505.0   \n",
      "5               0                     0  13000.0            0.0   \n",
      "6               0                     0      0.0            0.0   \n",
      "\n",
      "   transportation  foods  BD_expenses  others  total_cost  remaining  \n",
      "0           180.0  190.0       1380.0   225.0      2475.0        0.0  \n",
      "1           170.0  200.0       1350.0   190.0      2415.0       70.0  \n",
      "2           140.0  180.0       1400.0   200.0      2425.0        0.0  \n",
      "3           145.0  180.0       1100.0   500.0      2430.0        0.0  \n",
      "4           140.0  200.0       1650.0   250.0      2745.0        0.0  \n",
      "5             0.0    0.0       6880.0     0.0         0.0        0.0  \n",
      "6             0.0    0.0          0.0     0.0         0.0        0.0  \n"
     ]
    }
   ],
   "execution_count": 64
  },
  {
   "metadata": {},
   "cell_type": "markdown",
   "source": "TOTAL EXPENSES\n",
   "id": "58f4e2012c59b733"
  },
  {
   "metadata": {
    "ExecuteTime": {
     "end_time": "2025-03-22T12:22:29.162314Z",
     "start_time": "2025-03-22T12:22:29.086803Z"
    }
   },
   "cell_type": "code",
   "source": [
    "sum_expenses = {\n",
    "    \"accommodation\" : df[\"accommodation\"].sum(),\n",
    "    \"transportation\" : df[\"transportation\"].sum(),\n",
    "    \"foods\" : df[\"foods\"].sum(),\n",
    "    \"BD_expenses\" : df[\"BD_expenses\"].sum(),\n",
    "    \"others\" : df[\"others\"].sum(),\n",
    "}\n",
    "\n",
    "plt.figure(figsize = (7,5))\n",
    "colors = [\"blue\", \"yellow\", \"red\", \"green\", \"cyan\"]\n",
    "plt.bar(sum_expenses.keys(), sorted(sum_expenses.values(), reverse=True), color = colors)\n",
    "plt.title(\"Sum of expenses\")\n",
    "plt.xticks(rotation = 90)\n",
    "plt.show()\n"
   ],
   "id": "efb5b2a96b464c3a",
   "outputs": [
    {
     "data": {
      "text/plain": [
       "<Figure size 700x500 with 1 Axes>"
      ],
      "image/png": "[encoded data removed]"
     },
     "metadata": {},
     "output_type": "display_data"
    }
   ],
   "execution_count": 73
  }
 ],
 "metadata": {
  "kernelspec": {
   "display_name": "Python [conda env:base] *",
   "language": "python",
   "name": "conda-base-py"
  },
  "language_info": {
   "codemirror_mode": {
    "name": "ipython",
    "version": 3
   },
   "file_extension": ".py",
   "mimetype": "text/x-python",
   "name": "python",
   "nbconvert_exporter": "python",
   "pygments_lexer": "ipython3",
   "version": "3.12.7"
  }
 },
 "nbformat": 4,
 "nbformat_minor": 5
}
